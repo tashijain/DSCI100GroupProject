{
 "cells": [
  {
   "cell_type": "markdown",
   "metadata": {},
   "source": [
    "# Group Project Proposal (Kaede, Delphine, Tashi)\n",
    "\n",
    "## Heart Disease Classification\n",
    "\n",
    "### Introduction\n",
    "\n",
    "Cardiovascular diseases (CVDs), especially heart disorders, are a primary cause of death worldwide, according to the World Health Organization. CVDs kill 17.9 million individuals worldwide, accounting for 32% of all fatalities. As a result, detecting the existence of heart disease early on based on numerous parameters such as cholesterol, blood pressure, and age can help save more lives by allowing patients to make lifestyle adjustments or seek medical assistance sooner.\n",
    "\n",
    "Our goal is to investigate ways to predict whether a new patient would or wouldn't have heart diesease based on other related factors. More specifically, we aim to answer the question: **Is heart disease present (values = 1, 2, 3, 4) or absent (value = 0) in a new patient?**\n",
    "\n",
    "In our project, we use a dataset from the [UCI Machine Learning Repository](https://archive.ics.uci.edu/ml/datasets/Heart+Disease). The dataset contains 76 attributes byut only 14 attributes The database contains 76 attributes, but all published experiments only use a subset of 14 of them. In our project we will use 3 of these attributes as predictor variables namely trestbps (resting blood pressure), chol (serum cholestoral in mg/dl), and age (age in years) to predict the presence or absence of heart disease on a new patient. \n",
    "\n",
    "We will use the KNN classification to develop a classifier in this project. The prediction and performance of our model, which has been trained and tested on the data above, will then be evaluated. A good-fit model, trained and evaluated as stated, can then be used to predict the presence or absence of cardiac disease in new patients with good accuracy.\n",
    "\n",
    "thalach: maximum heart rate achieved\n",
    "trestbps: resting blood pressure \n",
    "chol: serum cholestoral in mg/dl\n",
    "age: age in years\n"
   ]
  },
  {
   "cell_type": "markdown",
   "metadata": {},
   "source": [
    "\n",
    "### Preliminary exploratory data analysis\n",
    "\n",
    "#### Reading data from the web\n",
    "\n",
    "#### Clean and wrangle data into a tidy format\n"
   ]
  },
  {
   "cell_type": "markdown",
   "metadata": {},
   "source": [
    "### Methods"
   ]
  },
  {
   "cell_type": "markdown",
   "metadata": {},
   "source": [
    "### Expected outcomes and significance"
   ]
  }
 ],
 "metadata": {
  "kernelspec": {
   "display_name": "R",
   "language": "R",
   "name": "ir"
  },
  "language_info": {
   "codemirror_mode": "r",
   "file_extension": ".r",
   "mimetype": "text/x-r-source",
   "name": "R",
   "pygments_lexer": "r",
   "version": "4.0.0"
  }
 },
 "nbformat": 4,
 "nbformat_minor": 4
}
